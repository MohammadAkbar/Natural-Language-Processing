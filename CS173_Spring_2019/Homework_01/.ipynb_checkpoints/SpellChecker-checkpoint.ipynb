{
 "cells": [
  {
   "cell_type": "markdown",
   "metadata": {},
   "source": [
    "### Spell Checker"
   ]
  },
  {
   "cell_type": "markdown",
   "metadata": {},
   "source": [
    "In order to check spelling we need a dictionary.<br/>\n",
    "For this program we will be using the dictionary `words.words()` from the `nltk` (natural language tool kit) module."
   ]
  },
  {
   "cell_type": "code",
   "execution_count": 27,
   "metadata": {},
   "outputs": [
    {
     "name": "stderr",
     "output_type": "stream",
     "text": [
      "[nltk_data] Downloading package wordnet to\n",
      "[nltk_data]     C:\\Users\\Akbar\\AppData\\Roaming\\nltk_data...\n",
      "[nltk_data]   Package wordnet is already up-to-date!\n"
     ]
    }
   ],
   "source": [
    "import nltk\n",
    "nltk.download('wordnet')\n",
    "from nltk.corpus import wordnet as wn\n",
    "from nltk.corpus import words as words"
   ]
  },
  {
   "cell_type": "markdown",
   "metadata": {},
   "source": [
    "Now we import the regex package `re`."
   ]
  },
  {
   "cell_type": "code",
   "execution_count": 28,
   "metadata": {
    "jupyter": {
     "source_hidden": true
    },
    "scrolled": true
   },
   "outputs": [],
   "source": [
    "import re"
   ]
  },
  {
   "cell_type": "markdown",
   "metadata": {},
   "source": [
    "We will use `sortedcontainers` to improve performance."
   ]
  },
  {
   "cell_type": "code",
   "execution_count": 29,
   "metadata": {},
   "outputs": [],
   "source": [
    "from sortedcontainers import SortedSet"
   ]
  },
  {
   "cell_type": "markdown",
   "metadata": {},
   "source": [
    "Unfortunately, `wordnet` does **NOT** include:<br/> `determiners`, `prepositions`, `pronouns`, `conjunctions`, `particles`, `auxiliary verbs`.<br/>\n",
    "Lets add these to our dictionary manually"
   ]
  },
  {
   "cell_type": "code",
   "execution_count": 30,
   "metadata": {},
   "outputs": [],
   "source": [
    "ACCEPTED = SortedSet([])\n",
    "notACCEPTED = SortedSet([])\n",
    "hardfiles = [\"determiners.txt\", \n",
    "             \"prepositions.txt\", \n",
    "             \"pronouns.txt\", \n",
    "             \"conjunctions.txt\", \n",
    "             \"particles.txt\",\n",
    "             \"auxiliaryverbs.txt\"]\n",
    "for filenm in hardfiles:\n",
    "    with open(filenm,'r') as file:\n",
    "        for line in file:\n",
    "            ACCEPTED.add(\"\".join(line.split()))"
   ]
  },
  {
   "cell_type": "markdown",
   "metadata": {},
   "source": [
    "Time to start parsing our file!"
   ]
  },
  {
   "cell_type": "code",
   "execution_count": 48,
   "metadata": {},
   "outputs": [],
   "source": [
    "pattern = re.compile(r\"([\\w\\-\\\\']*[a-zA-Z]+[\\w\\-\\']*)\")\n",
    "with open(\"mobydick.txt\") as file:\n",
    "    for count , line in enumerate(file):\n",
    "        for match in re.finditer(pattern, line):\n",
    "            word = line[match.start():match.end()].lower()\n",
    "            if word in ACCEPTED or word in notACCEPTED:\n",
    "                continue\n",
    "            if wn.synsets(word,'asrnv'):\n",
    "                ACCEPTED.add(word)\n",
    "            else:\n",
    "                notACCEPTED.add(word)"
   ]
  },
  {
   "cell_type": "markdown",
   "metadata": {},
   "source": [
    "Lets at what we have so far"
   ]
  },
  {
   "cell_type": "code",
   "execution_count": 25,
   "metadata": {},
   "outputs": [
    {
     "name": "stdout",
     "output_type": "stream",
     "text": [
      "2588 words not 'yet' accpted\n",
      "0001 | '-gallant-cross-trees\n",
      "...\n",
      "0101 | -in\n",
      "...\n",
      "0201 | addi-\n",
      "...\n",
      "0301 | attend-\n",
      "...\n",
      "0401 | bookbinder's\n",
      "...\n",
      "0501 | cellini's\n",
      "...\n",
      "0601 | corre-\n",
      "...\n",
      "0701 | dinner-time\n",
      "...\n",
      "0801 | exasper-\n",
      "...\n",
      "0901 | freebooting\n",
      "...\n",
      "1001 | half-inch\n",
      "...\n",
      "1101 | how-\n",
      "...\n",
      "1201 | jocularly\n",
      "...\n",
      "1301 | lo\n",
      "...\n",
      "1401 | mazeppa\n",
      "...\n",
      "1501 | nescio\n",
      "...\n",
      "1601 | paint-\n",
      "...\n",
      "1701 | ponder-\n",
      "...\n",
      "1801 | relin-\n",
      "...\n",
      "1901 | sea-salt\n",
      "...\n",
      "2001 | sleeper's\n",
      "...\n",
      "2101 | stopping-places\n",
      "...\n",
      "2201 | terrorem\n",
      "...\n",
      "2301 | trous\n",
      "...\n",
      "2401 | val\n",
      "...\n",
      "2501 | whaleboning\n",
      "...\n"
     ]
    }
   ],
   "source": [
    "print(str(len(notACCEPTED))+ \" words not 'yet' accepted\")\n",
    "for i , word in enumerate(notACCEPTED[::100]):\n",
    "    print(str(i*100+1).zfill(4) +\" | \" + word)\n",
    "    print(\"...\")\n",
    "    "
   ]
  },
  {
   "cell_type": "code",
   "execution_count": null,
   "metadata": {},
   "outputs": [],
   "source": []
  }
 ],
 "metadata": {
  "kernelspec": {
   "display_name": "Python 3",
   "language": "python",
   "name": "python3"
  },
  "language_info": {
   "codemirror_mode": {
    "name": "ipython",
    "version": 3
   },
   "file_extension": ".py",
   "mimetype": "text/x-python",
   "name": "python",
   "nbconvert_exporter": "python",
   "pygments_lexer": "ipython3",
   "version": "3.7.1"
  }
 },
 "nbformat": 4,
 "nbformat_minor": 2
}
