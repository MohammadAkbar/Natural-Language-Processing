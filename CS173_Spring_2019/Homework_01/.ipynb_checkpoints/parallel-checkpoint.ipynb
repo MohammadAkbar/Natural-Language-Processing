{
 "cells": [
  {
   "cell_type": "code",
   "execution_count": 76,
   "metadata": {},
   "outputs": [
    {
     "name": "stdout",
     "output_type": "stream",
     "text": [
      "thread function 0\n",
      "distance:(1555352034.928134, 1555352034.928134)\n",
      "thread function 1\n",
      "distance:(1555352034.9321322, 1555352034.9321322)\n",
      "thread function 2\n",
      "distance:(1555352034.9401333, 1555352034.9401333)\n"
     ]
    }
   ],
   "source": [
    "import threading\n",
    "import editDist\n",
    "def f(id):\n",
    "    print(\"thread function %s\" %(id))\n",
    "    dist = editDist.minEditDist(\"cast\",\"cats\",100)\n",
    "    print(\"distance:\"+str(dist))\n",
    "    return\n",
    "\n",
    "if __name__ == '__main__':\n",
    "    for i in range(3):\n",
    "        t = threading.Thread(target=f, args=(i,))\n",
    "        t.start()"
   ]
  },
  {
   "cell_type": "code",
   "execution_count": null,
   "metadata": {},
   "outputs": [],
   "source": []
  }
 ],
 "metadata": {
  "kernelspec": {
   "display_name": "Python 3",
   "language": "python",
   "name": "python3"
  },
  "language_info": {
   "codemirror_mode": {
    "name": "ipython",
    "version": 3
   },
   "file_extension": ".py",
   "mimetype": "text/x-python",
   "name": "python",
   "nbconvert_exporter": "python",
   "pygments_lexer": "ipython3",
   "version": "3.7.1"
  }
 },
 "nbformat": 4,
 "nbformat_minor": 2
}
