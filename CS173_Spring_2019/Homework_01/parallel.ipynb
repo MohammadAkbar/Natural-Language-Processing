{
 "cells": [
  {
   "cell_type": "code",
   "execution_count": 20,
   "metadata": {},
   "outputs": [],
   "source": [
    "from collections import deque\n",
    "import editDist\n",
    "\n",
    "class BKTree:\n",
    "    def __init__(self, distance_func):\n",
    "        self._tree = None\n",
    "        self._distance_func = distance_func\n",
    "\n",
    "    def add(self, node):\n",
    "        if self._tree is None:\n",
    "            self._tree = (node, {})\n",
    "            return\n",
    "\n",
    "        current, children = self._tree\n",
    "        while True:\n",
    "            dist = self._distance_func(node, current)\n",
    "            target = children.get(dist)\n",
    "            if target is None:\n",
    "                children[dist] = (node, {})\n",
    "                break\n",
    "            current, children = target\n",
    "\n",
    "    def search(self, node, radius):\n",
    "        if self._tree is None:\n",
    "            return []\n",
    "\n",
    "        candidates = deque([self._tree])\n",
    "        result = []\n",
    "        while candidates:\n",
    "            candidate, children = candidates.popleft()\n",
    "            dist = self._distance_func(node, candidate)\n",
    "            if dist <= radius:\n",
    "                result.append((dist, candidate))\n",
    "\n",
    "            low, high = dist - radius, dist + radius\n",
    "            candidates.extend(c for d, c in children.items()\n",
    "                              if low <= d <= high)\n",
    "        return result"
   ]
  },
  {
   "cell_type": "code",
   "execution_count": 21,
   "metadata": {},
   "outputs": [],
   "source": [
    "bk = BKTree(editDist.minEditDist)\n",
    "bk.add(\"aza\")\n",
    "bk.add(\"bzb\")"
   ]
  },
  {
   "cell_type": "code",
   "execution_count": 22,
   "metadata": {},
   "outputs": [
    {
     "data": {
      "text/plain": [
       "[]"
      ]
     },
     "execution_count": 22,
     "metadata": {},
     "output_type": "execute_result"
    }
   ],
   "source": [
    "bk.search(\"czc\",)"
   ]
  },
  {
   "cell_type": "code",
   "execution_count": null,
   "metadata": {},
   "outputs": [],
   "source": []
  }
 ],
 "metadata": {
  "kernelspec": {
   "display_name": "Python 3",
   "language": "python",
   "name": "python3"
  },
  "language_info": {
   "codemirror_mode": {
    "name": "ipython",
    "version": 3
   },
   "file_extension": ".py",
   "mimetype": "text/x-python",
   "name": "python",
   "nbconvert_exporter": "python",
   "pygments_lexer": "ipython3",
   "version": "3.7.1"
  }
 },
 "nbformat": 4,
 "nbformat_minor": 2
}
