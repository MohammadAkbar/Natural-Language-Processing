{
 "cells": [
  {
   "cell_type": "markdown",
   "metadata": {},
   "source": [
    "## Spell Checker\n",
    "*by Mohammad Akbar*"
   ]
  },
  {
   "cell_type": "markdown",
   "metadata": {},
   "source": [
    "In order to check spelling we need a dictionary.<br/>\n",
    "For this program we will be using the dictionary `words.words()` from the `nltk` (natural language tool kit) module."
   ]
  },
  {
   "cell_type": "code",
   "execution_count": 1,
   "metadata": {},
   "outputs": [
    {
     "name": "stderr",
     "output_type": "stream",
     "text": [
      "[nltk_data] Downloading package wordnet to\n",
      "[nltk_data]     C:\\Users\\Akbar\\AppData\\Roaming\\nltk_data...\n",
      "[nltk_data]   Package wordnet is already up-to-date!\n"
     ]
    }
   ],
   "source": [
    "import nltk\n",
    "nltk.download('wordnet')\n",
    "from nltk.corpus import wordnet as wn"
   ]
  },
  {
   "cell_type": "markdown",
   "metadata": {},
   "source": [
    "Now we import the regex package `re`."
   ]
  },
  {
   "cell_type": "code",
   "execution_count": 2,
   "metadata": {
    "jupyter": {
     "source_hidden": true
    },
    "scrolled": true
   },
   "outputs": [],
   "source": [
    "import re"
   ]
  },
  {
   "cell_type": "markdown",
   "metadata": {},
   "source": [
    "We will use `sortedcontainers` to improve performance."
   ]
  },
  {
   "cell_type": "code",
   "execution_count": 3,
   "metadata": {},
   "outputs": [],
   "source": [
    "from sortedcontainers import SortedSet,SortedList"
   ]
  },
  {
   "cell_type": "markdown",
   "metadata": {},
   "source": [
    "Unfortunately, `wordnet` does **NOT** include:<br/> `determiners`, `prepositions`, `pronouns`, `conjunctions`, `particles`, `auxiliary verbs`.<br/>\n",
    "Lets add these to our dictionary manually"
   ]
  },
  {
   "cell_type": "code",
   "execution_count": 4,
   "metadata": {},
   "outputs": [
    {
     "name": "stdout",
     "output_type": "stream",
     "text": [
      "done reading\n"
     ]
    }
   ],
   "source": [
    "ACCEPTED = SortedSet([])\n",
    "notACCEPTED = SortedSet([])\n",
    "CUSTOMDICT = SortedSet([])\n",
    "ALLWORDS = SortedList([])\n",
    "ALLERRORS = SortedList([])\n",
    "\n",
    "import os\n",
    "\n",
    "def genCustom():\n",
    "    filenms = [name for name in os.listdir(\"./hardcode\") if name.endswith(\".txt\")]\n",
    "    for filenm in filenms:\n",
    "        with open(\"./hardcode/\"+filenm,'r') as file:\n",
    "            print(\"fileopened\",filenm,file)\n",
    "            for line in file:\n",
    "                print(\"*\", end =\" \")\n",
    "                word = \"\".join(line.split())\n",
    "                if wn.synsets(word,'asrnv'):\n",
    "                    ACCEPTED.add(word.lower())\n",
    "    f = open(\"./hardcode/custom_dict.txt\", \"w\")\n",
    "    for word in ACCEPTED:\n",
    "        f.write(word+\"\\n\")\n",
    "    f.close()\n",
    "\n",
    "def readCustom():\n",
    "    with open(\"./hardcode/custom_dict.txt\",'r') as file:\n",
    "        for line in file:\n",
    "            word = \"\".join(line.split())\n",
    "            CUSTOMDICT.add(word.lower())\n",
    "\n",
    "def lookUp(word):\n",
    "    if word in CUSTOMDICT or wn.synsets(word,'asrnv') or word in ACCEPTED:\n",
    "        return True\n",
    "    return False\n",
    "\n",
    "#genCustom()\n",
    "readCustom()\n",
    "print(\"done reading\")"
   ]
  },
  {
   "cell_type": "markdown",
   "metadata": {},
   "source": [
    "Time to start parsing our file!"
   ]
  },
  {
   "cell_type": "code",
   "execution_count": 5,
   "metadata": {},
   "outputs": [],
   "source": [
    "def acceptWord(word):\n",
    "    if word not in ACCEPTED:\n",
    "        ACCEPTED.add(word)\n",
    "    if word in notACCEPTED:\n",
    "        ACCEPTED.discard(word)\n",
    "    if word in ALLERRORS:\n",
    "        ALLERRORS.discard(word)\n",
    "    ALLWORDS.add(word)\n",
    "\n",
    "def rejectWord(word):\n",
    "    if word not in notACCEPTED:\n",
    "        notACCEPTED.add(word)\n",
    "    ALLERRORS.add(word)\n",
    "\n",
    "pattern = re.compile(r\"([\\w\\-\\\\']*[a-zA-Z]+[\\w\\-\\']*)\") # regex for words with atleast 1 a-zA-Z\n",
    "with open(\"mobydick.txt\") as file:                         # open input file\n",
    "    for count , line in enumerate(file):                      # foreach line\n",
    "        for match in re.finditer(pattern, line):                 # foreach word in line\n",
    "            word = line[match.start():match.end()].lower()          # words found in line, forced lowercase\n",
    "            if word in notACCEPTED:                                 # if word already memoized\n",
    "                continue                                               # go to next word\n",
    "            elif word in ACCEPTED or lookUp(word):                  # if word in wordnet, 'asrnv' means nouns,verbs,... \n",
    "                acceptWord(word)\n",
    "            else:                                                   # else word NOT in wordnet\n",
    "                rejectWord(word)                                    # memoize as notACCEPTED"
   ]
  },
  {
   "cell_type": "markdown",
   "metadata": {},
   "source": [
    "Great! We have our file parsed. However, there are some false negatives in `notACCEPTED`.<br/>\n",
    "Lets account for words ending with `'s` or `s'`"
   ]
  },
  {
   "cell_type": "code",
   "execution_count": 6,
   "metadata": {},
   "outputs": [],
   "source": [
    "def goodApostrophe(word):\n",
    "    word_no_apst = re.sub(\"\\'s$|s\\'$\",'',word)\n",
    "    if word == word_no_apst:\n",
    "        return False\n",
    "    elif word_no_apst in ACCEPTED or lookUp(word):\n",
    "        return True\n",
    "    else:\n",
    "        return False"
   ]
  },
  {
   "cell_type": "code",
   "execution_count": 7,
   "metadata": {},
   "outputs": [],
   "source": [
    "for word in notACCEPTED:\n",
    "    if goodApostrophe(word):\n",
    "        acceptWord(word)"
   ]
  },
  {
   "cell_type": "markdown",
   "metadata": {},
   "source": [
    "We've go as far as we can with dictionaries, but there are still more words to recognize.<br/>\n",
    "Lets include compound words next `compound words` example: *gallant-cross-tree*"
   ]
  },
  {
   "cell_type": "code",
   "execution_count": 8,
   "metadata": {},
   "outputs": [],
   "source": [
    "pattern_compound = re.compile(r\"([^\\-\\s]+)\")\n",
    "for word in notACCEPTED:\n",
    "    accept_compound = True\n",
    "    roots = re.findall(pattern_compound, word)\n",
    "    for r , root in enumerate(roots):\n",
    "        if root in ACCEPTED or lookUp(root) or goodApostrophe(root):\n",
    "            continue\n",
    "        else:\n",
    "            accept_compound = False\n",
    "            break\n",
    "    #if word.startswith('-') or word.endswith('-'):\n",
    "    #    accept_compound = False\n",
    "    if accept_compound:\n",
    "        acceptWord(word)"
   ]
  },
  {
   "cell_type": "code",
   "execution_count": 9,
   "metadata": {},
   "outputs": [
    {
     "data": {
      "text/markdown": [
       "**105,556** (*correctly spelled*) + **1,748** (*NOT in dictionary*) = **107,304** (*total words*)<br/>**98.37%** *correctly spelled*"
      ],
      "text/plain": [
       "<IPython.core.display.Markdown object>"
      ]
     },
     "metadata": {},
     "output_type": "display_data"
    }
   ],
   "source": [
    "from IPython.display import display, Markdown, Latex\n",
    "display(Markdown( \"**\" \n",
    "      + format(len(ALLWORDS), ',d')\n",
    "      + \"** (*correctly spelled*) + **\"\n",
    "      + format(len(ALLERRORS), ',d')\n",
    "      + \"** (*NOT in dictionary*) = **\" \n",
    "      + format(len(ALLWORDS)+len(ALLERRORS), ',d')\n",
    "      + \"** (*total words*)<br/>**\"\n",
    "      + '{0:.2%}'.format(float(len(ALLWORDS))/float(len(ALLWORDS)+len(ALLERRORS))) \n",
    "      + \"** *correctly spelled*\"))"
   ]
  },
  {
   "cell_type": "code",
   "execution_count": 10,
   "metadata": {},
   "outputs": [],
   "source": [
    "from IPython.display import HTML, display\n",
    "import tabulate\n",
    "import copy\n",
    "\n",
    "def insert():\n",
    "    return 1\n",
    "\n",
    "def delete():\n",
    "    return 1\n",
    "\n",
    "def replace():\n",
    "    return 1\n",
    "\n",
    "def traceBack( strA , strB , table):\n",
    "    align = []\n",
    "    linetop = \"\"\n",
    "    linemid = \"\"\n",
    "    linebot = \"\"\n",
    "    new_table = copy.deepcopy(table)\n",
    "    i = len(table)-1 \n",
    "    j = len(table[0])-1\n",
    "    while((i,j)!=(1,1)):\n",
    "        T = table[i][j]\n",
    "        S = table[i  ][j-1] + insert() if (j-1>0) else 1000000\n",
    "        D = table[i-1][j  ] + delete() if (i-1>0) else 1000000\n",
    "        R = 100000\n",
    "        if(j>1 and i>1):\n",
    "            if(table[0][j] == table[i][0]):\n",
    "                R = table[i][j]\n",
    "            else:\n",
    "                R = table[i-1][j-1] + replace()\n",
    "        #print(table[i][j],\" ? \", table[i-1][j-1])\n",
    "        if (S >= R <= D):\n",
    "            #print(\"Replace\")\n",
    "            linetop = table[i][0] + \" \" + linetop\n",
    "            linemid = \"|\" + \" \" + linemid\n",
    "            linebot = table[0][j] + \" \" + linebot\n",
    "            align = [table[i][0] + \" - \" + table[0][j]] + align\n",
    "            j = j-1\n",
    "            i = i-1\n",
    "        elif (R >= D <= S):\n",
    "            #print(\"Delete\")\n",
    "            linetop = table[i][0] + \" \"+ linetop\n",
    "            linemid = \"|\" + \" \" + linemid\n",
    "            linebot = \"*\" + \" \"+ linebot\n",
    "            align = [table[i][0] + \" - *\"] + align\n",
    "            i = i-1\n",
    "        else:\n",
    "            #print(\"Insert\")\n",
    "            linetop = \"*\" + \" \"+ linetop\n",
    "            linemid = \"|\" + \" \" + linemid\n",
    "            linebot = table[0][j] + \" \"+ linebot\n",
    "            align = [\"* - \" + table[0][j]] + align\n",
    "            j = j-1\n",
    "        new_table[i][j] = \"<b>\" + str(new_table[i][j]) + \"</b>\"\n",
    "    print('\\n'.join([linetop,linemid,linebot])) \n",
    "    #display(HTML(tabulate.tabulate(new_table, tablefmt='html')))\n",
    "        \n",
    "def minEditDist(strA , strB , max_dist):\n",
    "    m , n = len(strA) , len(strB)\n",
    "    if m==0 or n==0 :\n",
    "        return max(m,n)\n",
    "    if abs(m - n) > max_dist:\n",
    "        return abs(m - n)\n",
    "    table = [['X']*(n+2) for i in range(m+2)]\n",
    "    for i in range(m+2):\n",
    "        rowMin = max_dist + 1\n",
    "        for j in range(n+2):\n",
    "            if( (i,j)==(0,0) ):\n",
    "                table[i][j] = 'X'\n",
    "            elif( (i,j)==(0,1) or (i,j)==(1,0)):\n",
    "                table[i][j] = '#'\n",
    "            elif( i==0 ):\n",
    "                table[i][j] = strB[j-2]\n",
    "            elif( j==0 ):\n",
    "                table[i][j] = strA[i-2]\n",
    "            elif( i==1 ):\n",
    "                table[i][j] = j-1\n",
    "            elif( j==1 ):\n",
    "                table[i][j] = i-1\n",
    "            elif( strA[i-2] == strB[j-2] ):\n",
    "                table[i][j] = table[i-1][j-1]\n",
    "            else: \n",
    "                table[i][j] = min(  table[i  ][j-1] + insert(),    # Insert \n",
    "                                    table[i-1][j  ] + delete(),    # Remove \n",
    "                                    table[i-1][j-1] + replace())    # Replace\n",
    "            # check termination\n",
    "            if( i!=0 and j!=0 ):\n",
    "                rowMin = min(rowMin,table[i][j])\n",
    "        if( i!=0 and j!=0 and rowMin > max_dist ):\n",
    "            return max_dist+1\n",
    "    #if(table[i][j] < max_dist):\n",
    "        #traceBack(strA,strB,table)\n",
    "    #display(HTML(tabulate.tabulate(table, tablefmt='html')))\n",
    "    return table[i][j]"
   ]
  },
  {
   "cell_type": "code",
   "execution_count": 11,
   "metadata": {},
   "outputs": [],
   "source": [
    "from nltk import FreqDist\n",
    "from nltk.corpus import brown\n",
    "frequency_list = FreqDist(w.lower() for w in brown.words() if (re.search('[a-zA-Z]+',w) and lookUp(w)) )\n",
    "for word in ALLWORDS:\n",
    "    frequency_list[word.lower()] += 1\n",
    "    break"
   ]
  },
  {
   "cell_type": "code",
   "execution_count": 12,
   "metadata": {},
   "outputs": [
    {
     "name": "stdout",
     "output_type": "stream",
     "text": [
      "here\n"
     ]
    }
   ],
   "source": [
    "from ipypb import irange\n",
    "from operator import itemgetter, attrgetter\n",
    "from collections import deque\n",
    "print(\"here\")"
   ]
  },
  {
   "cell_type": "code",
   "execution_count": 13,
   "metadata": {},
   "outputs": [
    {
     "data": {
      "text/html": [
       "<div><span class=\"Text-label\" style=\"display:inline-block; overflow:hidden; white-space:nowrap; text-overflow:ellipsis; min-width:0; max-width:15ex; vertical-align:middle; text-align:right\"></span>\n",
       "<progress style=\"width:60ex\" max=\"2540\" value=\"140\" class=\"Progress-main\"/></progress>\n",
       "<span class=\"Progress-label\"><strong>6%</strong></span>\n",
       "<span class=\"Iteration-label\">125/2540</span>\n",
       "<span class=\"Time-label\">[03:57<00:03, 1.69s/it]</span></div>"
      ],
      "text/plain": [
       "\u001b[A\u001b[2K\r",
       " [███#########################################################] 140/2540 [03:57<00:03, 1.69s/it]"
      ]
     },
     "metadata": {},
     "output_type": "display_data"
    },
    {
     "name": "stdout",
     "output_type": "stream",
     "text": [
      "'-gallant-cross-trees : gallants d=13 f=-1 , philanthropies d=13 f=-1 , gallstones d=13 f=-1\n",
      "'-gallant-mast : gallants d=6 f=-1 , ungallant d=7 f=-1 , gallantry d=7 f=-3\n",
      "'-gallant-sails : gallants d=7 f=-1 , ungallant d=8 f=-1 , saint-saens d=8 f=-1\n",
      "'-sails : sails d=2 f=-2 , mosaics d=3 f=-1 , derails d=3 f=-1\n",
      "'-west : lowest d=2 f=-13 , newest d=2 f=-15 , west d=2 f=-235\n",
      "'-wester : wetter d=3 f=-1 , pester d=3 f=-1 , bester d=3 f=-1\n",
      "'a : aa d=1 f=-1 , ra d=1 f=-1 , ga d=1 f=-1\n",
      "'about : about d=1 f=-1815 , amount d=3 f=-172 , out d=3 f=-2097\n",
      "'all : mall d=1 f=-3 , pall d=1 f=-4 , gall d=1 f=-7\n",
      "'balmed : balled d=2 f=-1 , balked d=2 f=-2 , palmed d=2 f=-2\n",
      "'beat : beat d=1 f=-68 , bat d=2 f=-18 , bet d=2 f=-20\n",
      "'bout : bout d=1 f=-5 , about d=1 f=-1815 , stout d=2 f=-3\n",
      "'corrupt : corrupt d=1 f=-8 , corrupter d=3 f=-1 , correct d=3 f=-52\n",
      "'d : sd d=1 f=-1 , 2d d=1 f=-4 , cd d=1 f=-8\n",
      "'dinner : dinner d=1 f=-91 , planner d=3 f=-2 , denver d=3 f=-16\n",
      "'em : mem d=1 f=-1 , em d=1 f=-4 , hem d=1 f=-4\n",
      "'ere : mere d=1 f=-47 , here d=1 f=-750 , were d=1 f=-3284\n",
      "'gainst : against d=1 f=-618 , praise d=4 f=-17 , wait d=4 f=-94\n",
      "'he's : she's d=1 f=-22 , he's d=1 f=-60 , noes d=3 f=-1\n",
      "'heart : heart d=1 f=-173 , hearts d=2 f=-23 , hear d=2 f=-153\n",
      "'if : if d=1 f=-1466 , gift d=2 f=-33 , fit d=2 f=-75\n",
      "'it : kit d=1 f=-2 , git d=1 f=-4 , pit d=1 f=-14\n",
      "'landlord : landlord d=1 f=-12 , landlords d=2 f=-2 , blandly d=4 f=-2\n",
      "'m : lm d=1 f=-1 , gm d=1 f=-2 , fm d=1 f=-2\n",
      "'mong : among d=1 f=-314 , won d=3 f=-68 , many d=3 f=-1030\n",
      "'most : most d=1 f=-1159 , post d=2 f=-85 , cost d=2 f=-229\n",
      "'mrs : mrs d=1 f=-1 , errs d=2 f=-1 , furs d=2 f=-5\n",
      "'narwhale : carthage d=4 f=-1 , armhole d=4 f=-3 , awhile d=4 f=-4\n",
      "'nothing : nothing d=1 f=-411 , noting d=2 f=-17 , anything d=2 f=-265\n",
      "'often : soften d=1 f=-4 , often d=1 f=-369 , fulton d=4 f=-17\n",
      "'re : ire d=1 f=-1 , re d=1 f=-3 , are d=1 f=-4394\n",
      "'ready : ready d=1 f=-143 , remedy d=3 f=-13 , roads d=3 f=-58\n",
      "'s : os d=1 f=-1 , ys d=1 f=-1 , ms d=1 f=-2\n",
      "'sheaves : heaves d=2 f=-1 , shelves d=2 f=-8 , shrove d=4 f=-1\n",
      "'silly : silly d=1 f=-15 , chilly d=2 f=-5 , filly d=2 f=-9\n",
      "'spouters' : specters d=4 f=-1 , shooters d=4 f=-1 , exporters d=4 f=-1\n",
      "'struck : struck d=1 f=-59 , stuck d=2 f=-23 , truck d=2 f=-57\n",
      "'tell : tell d=1 f=-268 , smell d=2 f=-34 , sell d=2 f=-41\n",
      "'that : that d=1 f=-10237 , took d=4 f=-426 , an d=4 f=-3740\n",
      "'the : the d=1 f=-62713 , that d=3 f=-10237 , to d=3 f=-25732\n",
      "'this : this d=1 f=-3966 , these d=3 f=-1228 , that d=3 f=-10237\n",
      "'thou : thou d=1 f=-14 , thai d=3 f=-1 , thug d=3 f=-1\n",
      "'tis : otis d=1 f=-3 , dais d=2 f=-2 , tip d=2 f=-22\n",
      "'twas : teas d=2 f=-1 , twos d=2 f=-2 , atlas d=2 f=-12\n",
      "'twill : trill d=2 f=-3 , till d=2 f=-49 , still d=2 f=-782\n",
      "'ve : eve d=1 f=-19 , gee d=2 f=-4 , ike d=2 f=-4\n",
      "'way : sway d=1 f=-5 , away d=1 f=-456 , way d=1 f=-908\n",
      "'whale' : exhaled d=3 f=-2 , wholes d=3 f=-2 , hale d=3 f=-2\n",
      "-alive : alive d=1 f=-57 , malice d=2 f=-2 , valve d=2 f=-3\n",
      "-apprehensions : apprehensions d=1 f=-5 , suspensions d=6 f=-2 , aggressions d=6 f=-3\n",
      "-bag : bag d=1 f=-42 , mag d=2 f=-1 , lag d=2 f=-3\n",
      "-belt : belt d=1 f=-29 , melt d=2 f=-4 , bell d=2 f=-18\n",
      "-biscuit : biscuit d=1 f=-2 , biscuits d=2 f=-5 , circuit d=3 f=-23\n",
      "-bits : bits d=1 f=-12 , skits d=2 f=-1 , waits d=2 f=-2\n",
      "-bo : abo d=1 f=-5 , hobo d=2 f=-1 , ngo d=2 f=-1\n",
      "-board : aboard d=1 f=-25 , board d=1 f=-239 , byrd d=3 f=-9\n",
      "-bodied : bodied d=1 f=-1 , embodied d=2 f=-7 , bodies d=2 f=-64\n",
      "-bolted : bolted d=1 f=-7 , booted d=2 f=-1 , belted d=2 f=-2\n",
      "-bone : bone d=1 f=-33 , atone d=2 f=-1 , ebony d=2 f=-3\n",
      "-bow : bow d=1 f=-15 , bows d=2 f=-3 , sow d=2 f=-3\n",
      "-bowl : bowl d=1 f=-23 , bowie d=3 f=-1 , boos d=3 f=-2\n",
      "-boy : boy d=1 f=-242 , bob d=2 f=-40 , bay d=2 f=-57\n",
      "-browed : brewed d=2 f=-1 , crowed d=2 f=-2 , throwed d=2 f=-2\n",
      "-captains : captains d=1 f=-1 , captain d=2 f=-85 , plains d=4 f=-14\n",
      "-condemning : condemning d=1 f=-4 , confessing d=4 f=-3 , containing d=4 f=-45\n",
      "-covered : covered d=1 f=-104 , discovered d=3 f=-73 , cover d=3 f=-88\n",
      "-crackers : crackers d=1 f=-4 , crackles d=3 f=-1 , rockers d=3 f=-1\n",
      "-craft : craft d=1 f=-23 , graft d=2 f=-1 , crafts d=2 f=-3\n",
      "-crazy : crazy d=1 f=-34 , piracy d=3 f=-1 , brady d=3 f=-1\n",
      "-crier : drier d=2 f=-3 , cries d=2 f=-6 , cried d=2 f=-30\n",
      "-cutter : cutter d=1 f=-4 , putter d=2 f=-1 , mutter d=2 f=-1\n",
      "-deep : deep d=1 f=-109 , sheep d=2 f=-23 , keep d=2 f=-264\n",
      "-dick : dick d=1 f=-18 , dicks d=2 f=-2 , kick d=2 f=-15\n",
      "-emptied : emptied d=1 f=-8 , empties d=2 f=-3 , tempted d=2 f=-13\n",
      "-ended : mended d=1 f=-1 , tended d=1 f=-24 , ended d=1 f=-60\n",
      "-erect : erect d=1 f=-13 , eject d=2 f=-1 , defect d=2 f=-3\n",
      "-errant : verdant d=2 f=-1 , currant d=2 f=-1 , aberrant d=2 f=-5\n",
      "-eyed : keyed d=1 f=-3 , eyed d=1 f=-7 , reyes d=2 f=-1\n",
      "-faced : faced d=1 f=-54 , faces d=2 f=-72 , placed d=2 f=-126\n",
      "-fall : fall d=1 f=-147 , falls d=2 f=-32 , fail d=2 f=-37\n",
      "-fee : fee d=1 f=-16 , fees d=2 f=-29 , feel d=2 f=-216\n",
      "-fishers : fishers d=1 f=-1 , fishery d=2 f=-1 , fishes d=2 f=-2\n",
      "-fleet : fleet d=1 f=-17 , feet d=2 f=-283 , freer d=3 f=-5\n",
      "-free : free d=1 f=-259 , spree d=2 f=-4 , freer d=2 f=-5\n",
      "-gazers : gazes d=2 f=-1 , sharers d=3 f=-1 , agates d=3 f=-1\n",
      "-gnashing : gnashing d=1 f=-2 , squashing d=3 f=-1 , banishing d=3 f=-1\n",
      "-going : going d=1 f=-399 , aging d=2 f=-4 , doing d=2 f=-163\n",
      "-gray : gray d=1 f=-80 , gravy d=2 f=-4 , array d=2 f=-11\n",
      "-ground : ground d=1 f=-186 , grounds d=2 f=-58 , around d=2 f=-562\n",
      "-grounds : grounds d=1 f=-58 , rounds d=2 f=-13 , ground d=2 f=-186\n",
      "-hand : hand d=1 f=-431 , grand d=2 f=-48 , stand d=2 f=-148\n",
      "-head : ahead d=1 f=-109 , head d=1 f=-424 , read d=2 f=-174\n",
      "-headed : headed d=1 f=-59 , pleaded d=2 f=-7 , blended d=3 f=-4\n",
      "-hinted : hinted d=1 f=-7 , printed d=2 f=-36 , painted d=2 f=-40\n",
      "-hinting : hinting d=1 f=-1 , whiting d=2 f=-2 , chanting d=2 f=-2\n",
      "-hissed : hissed d=1 f=-2 , whisked d=2 f=-2 , kissed d=2 f=-15\n",
      "-hole : hole d=1 f=-58 , whole d=1 f=-309 , phone d=2 f=-54\n",
      "-horse : horse d=1 f=-117 , house d=2 f=-591 , those d=2 f=-782\n",
      "-hunter : hunter d=1 f=-18 , plunder d=3 f=-2 , taunted d=3 f=-2\n",
      "-hunters : hunters d=1 f=-6 , bunters d=2 f=-1 , shutters d=2 f=-5\n",
      "-in : din d=1 f=-1 , fin d=1 f=-2 , kin d=1 f=-2\n",
      "-island : island d=1 f=-167 , garland d=3 f=-9 , stand d=3 f=-148\n",
      "-ivory : ivory d=1 f=-17 , favors d=3 f=-10 , divorce d=3 f=-29\n",
      "-jacket : jacket d=1 f=-33 , blacked d=3 f=-3 , jockey d=3 f=-5\n",
      "-knot : knot d=1 f=-8 , knots d=2 f=-1 , knox d=2 f=-5\n",
      "-known : known d=1 f=-245 , knows d=2 f=-99 , know d=2 f=-683\n",
      "-lead : plead d=1 f=-5 , lead d=1 f=-129 , pleads d=2 f=-1\n",
      "-like : alike d=1 f=-20 , like d=1 f=-1292 , swipe d=3 f=-2\n",
      "-lines : lines d=1 f=-198 , clinic d=3 f=-3 , sites d=3 f=-16\n",
      "-looking : looking d=1 f=-173 , grooming d=3 f=-1 , pooling d=3 f=-2\n",
      "-lunging : plunging d=1 f=-3 , slinging d=2 f=-1 , plugging d=2 f=-1\n",
      "-mentioned : mentioned d=1 f=-79 , mentions d=3 f=-7 , questioned d=3 f=-29\n",
      "-naturalists : naturalist d=2 f=-1 , naturalism d=3 f=-1 , naturalistic d=3 f=-4\n",
      "-nothing : nothing d=1 f=-411 , noting d=2 f=-17 , anything d=2 f=-265\n",
      "-oar : boar d=1 f=-1 , roar d=1 f=-13 , dour d=2 f=-2\n",
      "-oars : roars d=1 f=-1 , oafs d=2 f=-1 , moans d=2 f=-1\n",
      "-occurrence : occurrence d=1 f=-30 , occurrences d=2 f=-10 , currency d=4 f=-12\n",
      "-of : of d=1 f=-36080 , no d=2 f=-2139 ,   d=3 f=0\n",
      "-ordaining : graining d=3 f=-1 , disdaining d=3 f=-2 , draining d=3 f=-3\n",
      "-out : pout d=1 f=-1 , tout d=1 f=-1 , gout d=1 f=-2\n",
      "-pagoda : pagoda d=1 f=-1 , pagodas d=2 f=-1 , parody d=3 f=-4\n",
      "-players : players d=1 f=-29 , speakers d=3 f=-14 , plays d=3 f=-66\n",
      "-pole : pole d=1 f=-18 , polo d=2 f=-4 , poll d=2 f=-9\n",
      "-ports : ports d=1 f=-4 , sports d=1 f=-49 , sport d=2 f=-17\n",
      "-pots : pots d=1 f=-5 , spots d=1 f=-32 , noes d=3 f=-1\n",
      "-practised : practised d=1 f=-2 , practiced d=2 f=-8 , praised d=3 f=-13\n",
      "-prophet : prophet d=1 f=-5 , propel d=3 f=-4 , prophecy d=3 f=-5\n",
      "-ribboned : dribbled d=3 f=-1 , rawboned d=3 f=-1 , ribbons d=3 f=-6\n",
      "-sail : sail d=1 f=-12 , saul d=2 f=-2 , assail d=2 f=-3\n",
      "-screen : screen d=1 f=-48 , spree d=3 f=-4 , screw d=3 f=-21\n",
      "-sea : sea d=1 f=-95 , se d=2 f=-10 , plea d=2 f=-11\n",
      "-secret : secret d=1 f=-78 , secrets d=2 f=-20 , screw d=3 f=-21\n",
      "-seen : seen d=1 f=-279 , seek d=2 f=-69 , been d=2 f=-2472\n",
      "-seven : seven d=1 f=-113 , seen d=2 f=-279 , even d=2 f=-1170\n",
      "-seventh : seventh d=1 f=-31 , eleventh d=2 f=-4 , event d=3 f=-81\n",
      "-shaped : v-shaped d=1 f=-4 , shaped d=1 f=-17 , shared d=2 f=-40\n",
      "-sheaf : sheaf d=1 f=-3 , shelf d=2 f=-12 , shear d=2 f=-40\n",
      "-ship : ship d=1 f=-83 , hip d=2 f=-10 , whip d=2 f=-19\n",
      "-ships : ships d=1 f=-43 , chips d=2 f=-3 , shops d=2 f=-17\n",
      "-ships' : ships d=2 f=-43 , chips d=3 f=-3 , shops d=3 f=-17\n"
     ]
    },
    {
     "ename": "KeyboardInterrupt",
     "evalue": "",
     "output_type": "error",
     "traceback": [
      "\u001b[1;31m---------------------------------------------------------------------------\u001b[0m",
      "\u001b[1;31mKeyboardInterrupt\u001b[0m                         Traceback (most recent call last)",
      "\u001b[1;32m<ipython-input-13-649502a2b859>\u001b[0m in \u001b[0;36m<module>\u001b[1;34m\u001b[0m\n\u001b[0;32m      5\u001b[0m     \u001b[0mminEdit\u001b[0m \u001b[1;33m=\u001b[0m \u001b[0mtop3\u001b[0m\u001b[1;33m[\u001b[0m\u001b[1;36m2\u001b[0m\u001b[1;33m]\u001b[0m\u001b[1;33m[\u001b[0m\u001b[1;36m1\u001b[0m\u001b[1;33m]\u001b[0m\u001b[1;33m\u001b[0m\u001b[1;33m\u001b[0m\u001b[0m\n\u001b[0;32m      6\u001b[0m     \u001b[1;32mfor\u001b[0m \u001b[0mj\u001b[0m \u001b[1;33m,\u001b[0m \u001b[0mDword\u001b[0m \u001b[1;32min\u001b[0m \u001b[0menumerate\u001b[0m\u001b[1;33m(\u001b[0m\u001b[0mfrequency_list\u001b[0m\u001b[1;33m)\u001b[0m\u001b[1;33m:\u001b[0m\u001b[1;33m\u001b[0m\u001b[1;33m\u001b[0m\u001b[0m\n\u001b[1;32m----> 7\u001b[1;33m         \u001b[0meditDist\u001b[0m \u001b[1;33m=\u001b[0m \u001b[1;33m-\u001b[0m\u001b[0mminEditDist\u001b[0m\u001b[1;33m(\u001b[0m\u001b[0mmisspelled\u001b[0m \u001b[1;33m,\u001b[0m \u001b[0mDword\u001b[0m \u001b[1;33m,\u001b[0m \u001b[1;33m-\u001b[0m\u001b[0mminEdit\u001b[0m\u001b[1;33m)\u001b[0m\u001b[1;33m\u001b[0m\u001b[1;33m\u001b[0m\u001b[0m\n\u001b[0m\u001b[0;32m      8\u001b[0m         \u001b[1;32mif\u001b[0m \u001b[0meditDist\u001b[0m \u001b[1;33m>=\u001b[0m \u001b[0mminEdit\u001b[0m\u001b[1;33m:\u001b[0m\u001b[1;33m\u001b[0m\u001b[1;33m\u001b[0m\u001b[0m\n\u001b[0;32m      9\u001b[0m             \u001b[0mf\u001b[0m \u001b[1;33m=\u001b[0m \u001b[1;33m-\u001b[0m\u001b[0mfrequency_list\u001b[0m\u001b[1;33m[\u001b[0m\u001b[0mDword\u001b[0m\u001b[1;33m]\u001b[0m\u001b[1;33m\u001b[0m\u001b[1;33m\u001b[0m\u001b[0m\n",
      "\u001b[1;32m<ipython-input-10-f205a9a85917>\u001b[0m in \u001b[0;36mminEditDist\u001b[1;34m(strA, strB, max_dist)\u001b[0m\n\u001b[0;32m     69\u001b[0m             \u001b[1;32mif\u001b[0m\u001b[1;33m(\u001b[0m \u001b[1;33m(\u001b[0m\u001b[0mi\u001b[0m\u001b[1;33m,\u001b[0m\u001b[0mj\u001b[0m\u001b[1;33m)\u001b[0m\u001b[1;33m==\u001b[0m\u001b[1;33m(\u001b[0m\u001b[1;36m0\u001b[0m\u001b[1;33m,\u001b[0m\u001b[1;36m0\u001b[0m\u001b[1;33m)\u001b[0m \u001b[1;33m)\u001b[0m\u001b[1;33m:\u001b[0m\u001b[1;33m\u001b[0m\u001b[1;33m\u001b[0m\u001b[0m\n\u001b[0;32m     70\u001b[0m                 \u001b[0mtable\u001b[0m\u001b[1;33m[\u001b[0m\u001b[0mi\u001b[0m\u001b[1;33m]\u001b[0m\u001b[1;33m[\u001b[0m\u001b[0mj\u001b[0m\u001b[1;33m]\u001b[0m \u001b[1;33m=\u001b[0m \u001b[1;34m'X'\u001b[0m\u001b[1;33m\u001b[0m\u001b[1;33m\u001b[0m\u001b[0m\n\u001b[1;32m---> 71\u001b[1;33m             \u001b[1;32melif\u001b[0m\u001b[1;33m(\u001b[0m \u001b[1;33m(\u001b[0m\u001b[0mi\u001b[0m\u001b[1;33m,\u001b[0m\u001b[0mj\u001b[0m\u001b[1;33m)\u001b[0m\u001b[1;33m==\u001b[0m\u001b[1;33m(\u001b[0m\u001b[1;36m0\u001b[0m\u001b[1;33m,\u001b[0m\u001b[1;36m1\u001b[0m\u001b[1;33m)\u001b[0m \u001b[1;32mor\u001b[0m \u001b[1;33m(\u001b[0m\u001b[0mi\u001b[0m\u001b[1;33m,\u001b[0m\u001b[0mj\u001b[0m\u001b[1;33m)\u001b[0m\u001b[1;33m==\u001b[0m\u001b[1;33m(\u001b[0m\u001b[1;36m1\u001b[0m\u001b[1;33m,\u001b[0m\u001b[1;36m0\u001b[0m\u001b[1;33m)\u001b[0m\u001b[1;33m)\u001b[0m\u001b[1;33m:\u001b[0m\u001b[1;33m\u001b[0m\u001b[1;33m\u001b[0m\u001b[0m\n\u001b[0m\u001b[0;32m     72\u001b[0m                 \u001b[0mtable\u001b[0m\u001b[1;33m[\u001b[0m\u001b[0mi\u001b[0m\u001b[1;33m]\u001b[0m\u001b[1;33m[\u001b[0m\u001b[0mj\u001b[0m\u001b[1;33m]\u001b[0m \u001b[1;33m=\u001b[0m \u001b[1;34m'#'\u001b[0m\u001b[1;33m\u001b[0m\u001b[1;33m\u001b[0m\u001b[0m\n\u001b[0;32m     73\u001b[0m             \u001b[1;32melif\u001b[0m\u001b[1;33m(\u001b[0m \u001b[0mi\u001b[0m\u001b[1;33m==\u001b[0m\u001b[1;36m0\u001b[0m \u001b[1;33m)\u001b[0m\u001b[1;33m:\u001b[0m\u001b[1;33m\u001b[0m\u001b[1;33m\u001b[0m\u001b[0m\n",
      "\u001b[1;31mKeyboardInterrupt\u001b[0m: "
     ]
    }
   ],
   "source": [
    "for i in irange(0,len(notACCEPTED[:]),1):\n",
    "    misspelled = notACCEPTED[i]\n",
    "    minEdit = -len(misspelled)\n",
    "    top3 = deque([[\" \",minEdit,0],[\" \",minEdit,0],[\" \",minEdit,0],[\" \",minEdit,0]],3)\n",
    "    minEdit = top3[2][1]\n",
    "    for j , Dword in enumerate(frequency_list):\n",
    "        editDist = -minEditDist(misspelled , Dword , -minEdit)\n",
    "        if editDist >= minEdit:\n",
    "            f = -frequency_list[Dword]\n",
    "            entry = [Dword,editDist,f]\n",
    "            top4 = list(top3)\n",
    "            minEdit = top3[2][1]\n",
    "            top4 += [entry]\n",
    "            top4 = sorted(top4, key=itemgetter(1,2))\n",
    "            top3 = deque(top4,3)\n",
    "    top3list = list(top3)\n",
    "    top3list.reverse()\n",
    "    print(misspelled,\":\",' , '.join([row[0]+\" d=\"+str(-row[1])+\" f=\"+str(row[2]) for row in top3list]))\n"
   ]
  },
  {
   "cell_type": "code",
   "execution_count": null,
   "metadata": {},
   "outputs": [],
   "source": []
  },
  {
   "cell_type": "raw",
   "metadata": {},
   "source": []
  }
 ],
 "metadata": {
  "kernelspec": {
   "display_name": "Python 3",
   "language": "python",
   "name": "python3"
  },
  "language_info": {
   "codemirror_mode": {
    "name": "ipython",
    "version": 3
   },
   "file_extension": ".py",
   "mimetype": "text/x-python",
   "name": "python",
   "nbconvert_exporter": "python",
   "pygments_lexer": "ipython3",
   "version": "3.7.1"
  }
 },
 "nbformat": 4,
 "nbformat_minor": 2
}
