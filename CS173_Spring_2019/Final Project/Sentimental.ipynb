{
 "cells": [
  {
   "cell_type": "code",
   "execution_count": 1,
   "metadata": {},
   "outputs": [],
   "source": [
    "import pandas as pd"
   ]
  },
  {
   "cell_type": "code",
   "execution_count": 2,
   "metadata": {},
   "outputs": [
    {
     "data": {
      "text/html": [
       "<div>\n",
       "<style scoped>\n",
       "    .dataframe tbody tr th:only-of-type {\n",
       "        vertical-align: middle;\n",
       "    }\n",
       "\n",
       "    .dataframe tbody tr th {\n",
       "        vertical-align: top;\n",
       "    }\n",
       "\n",
       "    .dataframe thead th {\n",
       "        text-align: right;\n",
       "    }\n",
       "</style>\n",
       "<table border=\"1\" class=\"dataframe\">\n",
       "  <thead>\n",
       "    <tr style=\"text-align: right;\">\n",
       "      <th></th>\n",
       "      <th>Text</th>\n",
       "    </tr>\n",
       "  </thead>\n",
       "  <tbody>\n",
       "    <tr>\n",
       "      <th>0</th>\n",
       "      <td>\"I love it\"</td>\n",
       "    </tr>\n",
       "    <tr>\n",
       "      <th>1</th>\n",
       "      <td>\"I am so happy, this is great\"</td>\n",
       "    </tr>\n",
       "    <tr>\n",
       "      <th>2</th>\n",
       "      <td>\"I am so angry, this sucks\"</td>\n",
       "    </tr>\n",
       "    <tr>\n",
       "      <th>3</th>\n",
       "      <td>\"I am so happy, this is great\"</td>\n",
       "    </tr>\n",
       "    <tr>\n",
       "      <th>4</th>\n",
       "      <td>\"I am so happy, this is great\"</td>\n",
       "    </tr>\n",
       "  </tbody>\n",
       "</table>\n",
       "</div>"
      ],
      "text/plain": [
       "                             Text\n",
       "0                     \"I love it\"\n",
       "1  \"I am so happy, this is great\"\n",
       "2     \"I am so angry, this sucks\"\n",
       "3  \"I am so happy, this is great\"\n",
       "4  \"I am so happy, this is great\""
      ]
     },
     "execution_count": 2,
     "metadata": {},
     "output_type": "execute_result"
    }
   ],
   "source": [
    "test_data_df = pd.read_fwf('test.txt',delimiter=\"\\n\")\n",
    "test_data_df.columns = [\"Text\"]\n",
    "test_data_df.head()"
   ]
  },
  {
   "cell_type": "code",
   "execution_count": 3,
   "metadata": {},
   "outputs": [
    {
     "data": {
      "text/html": [
       "<div>\n",
       "<style scoped>\n",
       "    .dataframe tbody tr th:only-of-type {\n",
       "        vertical-align: middle;\n",
       "    }\n",
       "\n",
       "    .dataframe tbody tr th {\n",
       "        vertical-align: top;\n",
       "    }\n",
       "\n",
       "    .dataframe thead th {\n",
       "        text-align: right;\n",
       "    }\n",
       "</style>\n",
       "<table border=\"1\" class=\"dataframe\">\n",
       "  <thead>\n",
       "    <tr style=\"text-align: right;\">\n",
       "      <th></th>\n",
       "      <th>Sentiment</th>\n",
       "      <th>Text</th>\n",
       "    </tr>\n",
       "  </thead>\n",
       "  <tbody>\n",
       "    <tr>\n",
       "      <th>0</th>\n",
       "      <td>0</td>\n",
       "      <td>\" cavs lost, and I got this sinking feeling we...</td>\n",
       "    </tr>\n",
       "    <tr>\n",
       "      <th>1</th>\n",
       "      <td>0</td>\n",
       "      <td>\" the closest BGT tour is Cardiff or London da...</td>\n",
       "    </tr>\n",
       "    <tr>\n",
       "      <th>2</th>\n",
       "      <td>0</td>\n",
       "      <td>\" Why do other pet care people try to run othe...</td>\n",
       "    </tr>\n",
       "    <tr>\n",
       "      <th>3</th>\n",
       "      <td>0</td>\n",
       "      <td>\"-gasps- dananananaykroyd touring aussie .... ...</td>\n",
       "    </tr>\n",
       "    <tr>\n",
       "      <th>4</th>\n",
       "      <td>0</td>\n",
       "      <td>\"....If i am going warsal that means no church...</td>\n",
       "    </tr>\n",
       "  </tbody>\n",
       "</table>\n",
       "</div>"
      ],
      "text/plain": [
       "   Sentiment                                               Text\n",
       "0          0  \" cavs lost, and I got this sinking feeling we...\n",
       "1          0  \" the closest BGT tour is Cardiff or London da...\n",
       "2          0  \" Why do other pet care people try to run othe...\n",
       "3          0  \"-gasps- dananananaykroyd touring aussie .... ...\n",
       "4          0  \"....If i am going warsal that means no church..."
      ]
     },
     "execution_count": 3,
     "metadata": {},
     "output_type": "execute_result"
    }
   ],
   "source": [
    "train_data_neg_df = pd.read_fwf('neg_tweets.txt',delimiter=\"\\n\")\n",
    "train_data_neg_df.insert(0, 'Sentiment', 0)\n",
    "train_data_neg_df.columns = [\"Sentiment\",\"Text\"]\n",
    "train_data_neg_df.head()"
   ]
  },
  {
   "cell_type": "code",
   "execution_count": 4,
   "metadata": {},
   "outputs": [
    {
     "data": {
      "text/html": [
       "<div>\n",
       "<style scoped>\n",
       "    .dataframe tbody tr th:only-of-type {\n",
       "        vertical-align: middle;\n",
       "    }\n",
       "\n",
       "    .dataframe tbody tr th {\n",
       "        vertical-align: top;\n",
       "    }\n",
       "\n",
       "    .dataframe thead th {\n",
       "        text-align: right;\n",
       "    }\n",
       "</style>\n",
       "<table border=\"1\" class=\"dataframe\">\n",
       "  <thead>\n",
       "    <tr style=\"text-align: right;\">\n",
       "      <th></th>\n",
       "      <th>Sentiment</th>\n",
       "      <th>Text</th>\n",
       "    </tr>\n",
       "  </thead>\n",
       "  <tbody>\n",
       "    <tr>\n",
       "      <th>0</th>\n",
       "      <td>1</td>\n",
       "      <td>\" just watched the movie Wanted... it was pret...</td>\n",
       "    </tr>\n",
       "    <tr>\n",
       "      <th>1</th>\n",
       "      <td>1</td>\n",
       "      <td>\" now I'm happy \"</td>\n",
       "    </tr>\n",
       "    <tr>\n",
       "      <th>2</th>\n",
       "      <td>1</td>\n",
       "      <td>\"--plotting like i'm mike..'game plan:pass the...</td>\n",
       "    </tr>\n",
       "    <tr>\n",
       "      <th>3</th>\n",
       "      <td>1</td>\n",
       "      <td>\"@ mcdonalds with my litto sis aka cuzin lol c...</td>\n",
       "    </tr>\n",
       "    <tr>\n",
       "      <th>4</th>\n",
       "      <td>1</td>\n",
       "      <td>\"@ PBnJen : Thanks for the great tour and maki...</td>\n",
       "    </tr>\n",
       "  </tbody>\n",
       "</table>\n",
       "</div>"
      ],
      "text/plain": [
       "   Sentiment                                               Text\n",
       "0          1  \" just watched the movie Wanted... it was pret...\n",
       "1          1                                  \" now I'm happy \"\n",
       "2          1  \"--plotting like i'm mike..'game plan:pass the...\n",
       "3          1  \"@ mcdonalds with my litto sis aka cuzin lol c...\n",
       "4          1  \"@ PBnJen : Thanks for the great tour and maki..."
      ]
     },
     "execution_count": 4,
     "metadata": {},
     "output_type": "execute_result"
    }
   ],
   "source": [
    "train_data_pos_df = pd.read_fwf('pos_tweets.txt',delimiter=\"\\n\")\n",
    "train_data_pos_df.insert(0, 'Sentiment', 1)\n",
    "train_data_pos_df.columns = [\"Sentiment\",\"Text\"]\n",
    "train_data_pos_df.head()"
   ]
  },
  {
   "cell_type": "code",
   "execution_count": 5,
   "metadata": {},
   "outputs": [],
   "source": [
    "import re\n",
    "import nltk\n",
    "from nltk.stem.porter import PorterStemmer\n",
    "from sklearn.feature_extraction.text import CountVectorizer\n",
    "from sklearn.model_selection  import train_test_split"
   ]
  },
  {
   "cell_type": "code",
   "execution_count": 6,
   "metadata": {},
   "outputs": [],
   "source": [
    "def tokenize(text):\n",
    "    text = re.sub(\"[^a-zA-Z]\", \" \", text)\n",
    "    tokens = nltk.word_tokenize(text)\n",
    "    stems = [PorterStemmer().stem(item) for item in tokens]\n",
    "    return(tokens)"
   ]
  },
  {
   "cell_type": "code",
   "execution_count": 7,
   "metadata": {},
   "outputs": [],
   "source": [
    "vectorizer = CountVectorizer(analyzer = 'word',tokenizer = tokenize,lowercase = True,stop_words = 'english',max_features = 80)"
   ]
  },
  {
   "cell_type": "code",
   "execution_count": 8,
   "metadata": {},
   "outputs": [],
   "source": [
    "train_data_df = pd.concat([train_data_pos_df,train_data_neg_df])\n",
    "features = vectorizer.fit_transform(train_data_df.Text.tolist()+test_data_df.Text.tolist())\n",
    "features_nd = features.toarray()"
   ]
  },
  {
   "cell_type": "code",
   "execution_count": 9,
   "metadata": {},
   "outputs": [],
   "source": [
    "X_train, X_test, y_train, y_test  = train_test_split(features_nd[0:len(train_data_df)], train_data_df.Sentiment,test_size=0.1, random_state=1)"
   ]
  },
  {
   "cell_type": "code",
   "execution_count": 10,
   "metadata": {},
   "outputs": [],
   "source": [
    "from sklearn.linear_model import LogisticRegression\n",
    "log_model = LogisticRegression(solver='lbfgs')"
   ]
  },
  {
   "cell_type": "code",
   "execution_count": 11,
   "metadata": {},
   "outputs": [],
   "source": [
    "log_model = log_model.fit(X=features_nd[0:len(train_data_df)], y=train_data_df.Sentiment)"
   ]
  },
  {
   "cell_type": "code",
   "execution_count": 12,
   "metadata": {},
   "outputs": [],
   "source": [
    "y_pred = log_model.predict(X_test)"
   ]
  },
  {
   "cell_type": "code",
   "execution_count": 13,
   "metadata": {},
   "outputs": [
    {
     "name": "stdout",
     "output_type": "stream",
     "text": [
      "              precision    recall  f1-score   support\n",
      "\n",
      "           0       0.84      0.96      0.90       142\n",
      "           1       0.86      0.54      0.67        59\n",
      "\n",
      "   micro avg       0.84      0.84      0.84       201\n",
      "   macro avg       0.85      0.75      0.78       201\n",
      "weighted avg       0.84      0.84      0.83       201\n",
      "\n"
     ]
    }
   ],
   "source": [
    "from sklearn.metrics import classification_report\n",
    "print(classification_report(y_test, y_pred))"
   ]
  },
  {
   "cell_type": "code",
   "execution_count": 14,
   "metadata": {},
   "outputs": [
    {
     "name": "stdin",
     "output_type": "stream",
     "text": [
      "Type a sentence and press enter I love NLP\n"
     ]
    }
   ],
   "source": [
    "a = input(\"Type a sentence and press enter\")"
   ]
  },
  {
   "cell_type": "code",
   "execution_count": 15,
   "metadata": {},
   "outputs": [
    {
     "data": {
      "text/html": [
       "<div>\n",
       "<style scoped>\n",
       "    .dataframe tbody tr th:only-of-type {\n",
       "        vertical-align: middle;\n",
       "    }\n",
       "\n",
       "    .dataframe tbody tr th {\n",
       "        vertical-align: top;\n",
       "    }\n",
       "\n",
       "    .dataframe thead th {\n",
       "        text-align: right;\n",
       "    }\n",
       "</style>\n",
       "<table border=\"1\" class=\"dataframe\">\n",
       "  <thead>\n",
       "    <tr style=\"text-align: right;\">\n",
       "      <th></th>\n",
       "      <th>Text</th>\n",
       "    </tr>\n",
       "  </thead>\n",
       "  <tbody>\n",
       "    <tr>\n",
       "      <th>0</th>\n",
       "      <td>I love NLP</td>\n",
       "    </tr>\n",
       "  </tbody>\n",
       "</table>\n",
       "</div>"
      ],
      "text/plain": [
       "         Text\n",
       "0  I love NLP"
      ]
     },
     "execution_count": 15,
     "metadata": {},
     "output_type": "execute_result"
    }
   ],
   "source": [
    "test_data_df2 = pd.DataFrame({'Text':[a]}) \n",
    "test_data_df2.head()"
   ]
  },
  {
   "cell_type": "code",
   "execution_count": 16,
   "metadata": {},
   "outputs": [
    {
     "name": "stdout",
     "output_type": "stream",
     "text": [
      "I love NLP 1\n"
     ]
    }
   ],
   "source": [
    "log_model = LogisticRegression(solver='lbfgs')\n",
    "log_model = log_model.fit(X=features_nd[0:len(train_data_df)], y=train_data_df.Sentiment)\n",
    "test_pred = log_model.predict(features_nd[len(train_data_df):])\n",
    "print(test_data_df2.Text[0], test_pred[0])"
   ]
  },
  {
   "cell_type": "code",
   "execution_count": 20,
   "metadata": {},
   "outputs": [
    {
     "name": "stdout",
     "output_type": "stream",
     "text": [
      "True\n"
     ]
    }
   ],
   "source": [
    "import praw\n",
    "\n",
    "reddit = praw.Reddit(client_id='8G3apa5U51Rw2g',\n",
    "                     client_secret='ACPdbSJSDLV8U3EAjla2MhOj1zg',\n",
    "                     user_agent='my user agent')\n",
    "\n",
    "print(reddit.read_only) "
   ]
  },
  {
   "cell_type": "code",
   "execution_count": 26,
   "metadata": {},
   "outputs": [
    {
     "name": "stdout",
     "output_type": "stream",
     "text": [
      "First paralyzed human treated with stem cells has now regained his upper body movement. 1\n",
      "Hollywood Superstar Keanu Reeves Has Secretly Been Financing Countless Children’s Hospitals 1\n",
      "Amazon tribe wins legal battle against oil companies. Preventing drilling in Amazon Rainforest 1\n",
      "Colorado becomes first state in nation to cap price of insulin. Under bill signed by governor this week, diabetics will pay no more than $100 a month for insulin. 0\n",
      "Police say a teenager who attached uplifting messages to a bridge to help people facing a mental health crisis has helped save six lives. 1\n",
      "13 Year Old Girl nicknamed 'Trash Girl' was regularly bullied for collecting trash on her way to school. On Friday she is to recieve a Points of Light Award award granted from Prime Minister Theresa May. 0\n",
      "A hacker is breaking into people's routers and patching them so they can't be abused by other hackers. 1\n",
      "Aldi introduces wages higher than the ‘real living wage’ after supermarket has record year 0\n",
      "Mom with 'gut feeling' stops school shooter before planned attack 1\n",
      "The Bishop of Paris, in tears, has told the French press that After fear of their destruction, all 3 irreplaceable Rose Windows, considered the greatest medieval artwork still in existence, have survived. They took years to build in the 13th century. 1\n",
      "Leonardo DiCaprio raises $100 million to fight climate change 1\n",
      "School superintendent arrested for allegedly using own insurance to help sick student will only get small fine, keep job. 1\n",
      "North Dakota quietly decriminalized marijuana 1\n",
      "TIL a grocery store in Canada was left unlocked and unattended on a national holiday. The only thing taken was cherry tomatoes, for which a person left $5 at the checkout. The person actually overpaid. 0\n",
      "In 1961, her calculations put the first American in space. Today, Katherine Johnson is celebrating her 100th birthday 1\n",
      "Fortnite Creator is Buying Thousands of Acres of Forest to Stop It From Being Cut Down 0\n",
      "82 year old youtuber know as the \"skyrim Grandma\" will be added as an nPC in the upcoming game The elder scrolls 6 0\n",
      "Disney heir calls on company to give 50% of exec bonuses to lowest-paid employees 0\n",
      "Burnout, stress lead more companies to try a four-day work week. It leads to higher productivity, more motivated staff. 1\n",
      "8th boy rescued. Thailand cave rescue continues. 1\n",
      "Kroger, America's largest supermarket chain to ban plastic checkout bags and transition to reusable ones and ultimately eliminate 123 million pounds of garbage annually sent to landfills 0\n",
      "Kelloggs is using rejected cornflakes to make beer in an effort to cut down on food waste 1\n",
      "To help his grandmother stay hydrated, man creates “water you can eat” Jelly Drops that look like candy and appeal to people with dementia. 0\n",
      "Turkish mom who read lecture notes for four years to her blind daughter at law school has been awarded honorary degree alongside of her daughter. 0\n",
      "A single father has taken his son, who has cerebral palsy, to over 1,000 heavy metal shows (since finding out how much the genre soothed and comforted him). Now he's organized a metal festival in his son's honor - to help raise awareness of the condition. 0\n",
      "Barack Obama and Stephen Curry inspire boys with advice about healthy manhood -- Obama: \"If you are very confident about your sexuality, you don't have to have eight women around you twerking.\" 1\n",
      "U.S. Senate votes 93-6 to stop airlines removing passengers from overbooked planes, Directs FAA to set Minimum seat Sizes 1\n",
      "Meet the woman who rented hotel rooms for homeless in Chicago during dangerous polar vortex 0\n",
      "New bill in Arkansas aims to promote gender equality by allowing fathers to more easily gain custody of their child. 1\n",
      "Mexico jaguar population grows 20% in eight years 0\n",
      "Man graduates with nursing degree from same university where he started as a janitor 0\n",
      "Alabama college student walked 20 miles to 1st day of work so his boss gave him his car 1\n",
      "A toddler shredded $1000 that his parents had been saving for months - but they're in luck. The US Treasury has a team of experts that piece destroyed cash together again and could repay the amount in full 0\n",
      "Emilia Clarke's fundraiser for brain injury (which started on Reddit) is trending on BBC news, and the /r/FreeFolk subreddit (which started it all) is especially mentioned! 0\n",
      "Biker gangs stand guard outside NZ mosques during first Friday prayer since massacre 1\n",
      "French billionaire François-Henri Pinault pledges €100 million ($113 million) to help rebuild the Notre Dame Cathedral 0\n",
      "Brooklyn Nine-Nine cast supports Terry Crews 0\n",
      "New York City murder rate goes flat over Christmas with none reported in five days 1\n",
      "NJ teacher leaves $1 million to school district in her will. it will be used on scholarships for special-Education students 1\n",
      "Denver votes to remove taxes from tampons, pads 0\n",
      "Guy Fieri Surprises California Firefighters With a Home Cooked Meal 1\n",
      "Thailand Cave Boys Say They Want To Be Navy SEAL Divers In First Public Comments Since Rescue 0\n",
      "Nurse finds out new colleague is baby she treated 28 years ago 1\n",
      "In Toronto, Canada, Constable Niran Jeyanesan got called to a Walmart to arrest a shoplifter who attempted to steal clothes for a job interview. Niran paid for his clothes and the man found a job. 0\n",
      "H.I.V. Is Reported Cured in a Second Patient, a Milestone in the Global AIDS Epidemic 1\n",
      "The world's largest furniture retailer IKEA has revealed that 70% of the materials used to make its products during 2018 were either renewable or recycled, as it strives to reach the 100% mark by 2030. 0\n",
      "Arizona man finds a little girl’s Christmas wish list attached to a balloon all the way from Mexico. Tracks her down and delivers her toys. 0\n",
      "California limits pet store sales of cats, dogs and rabbits to rescue or shelter animals only 1\n",
      "American in China who accidentally paid 100 times his US$9.60 cab fare gets his money back after cabby tracks him down 1\n",
      "Young People Are Registering to Vote in Huge Numbers, New Study Finds 1\n",
      "Sikhs In US Offered Free Food To Thousands Of Workers Affected By Government Shutdown 0\n",
      "Car is auctioned to pay for the care of two orphans. Car sells three times, car is donated back three times, totally $80,000 raised. 0\n",
      "Female Chief Terminates 850 Child Marriages in Malawi and Sends Girls Back to School 0\n",
      "Police officer jumps off overpass to save boy's life in daring New York rescue 1\n",
      "Homeless Nigerian Boy who beat kids from elite schools to win NY state chess championship is no longer homeless. 0\n",
      "Noah’s Ark except it’s a school bus: Truck driver rescues 64 dogs and cats from floods of Hurricane Florence 0\n",
      "The Malaysian government has announced it will not allow any further expansion of oil palm plantations, and that it intends to maintain forest cover at 50%. Malaymail 1\n",
      "Parents no longer can claim personal, philosophical exemption for measles vaccine in Wash. 1\n",
      "Bank returns stolen funds of Richard Overton, The World's Oldest Living WWII Veteran. 0\n",
      "Last year 920,000 children died of pneumonia, mostly in countries without access to expensive medical care. Now an Indian doctor has fashioned and artificial respirator out of shampoo bottles. It has been routinely deployed in his hospital, and infant pneumonia deaths have dropped by 75%. 0\n",
      "Cheers To Corona—It's The First Major Beer Brand To Test Plastic-Free 6-Pack Rings 1\n",
      "US Senate passes landmark bipartisan bill to enlarge national parks 1\n",
      "Man with down syndrome founds sock company with dad, earns 1.7 million their first year 0\n",
      "Ruth Bader Ginsburg shows 'no evidence of remaining disease,' Supreme Court says 1\n",
      "China’s ivory ban having a positive impact on the African elephant 0\n",
      "Couple finds $1.8 million lottery ticket while cleaning before Thanksgiving 0\n",
      "Maine becomes the first state to ban Styrofoam 0\n",
      "Black leopard spotted in Africa for first time in 100 years. 0\n",
      "‘Crouching Tiger, Hidden Dragon’ Star Chow Yun-fat Plans to Give His Entire $714M Fortune to Charity 0\n",
      "Walt Disney Company to eliminate plastic straws and more by 2019 1\n",
      "Dog, believed killed by neighbor, turns up one year later, 68 miles from home 0\n",
      "Thanks to better science and engineering, no one died in Friday's 7.0 earthquake in Anchorage, Alaska 1\n",
      "Muslims in Pakistani town refuse to slaughter cows \"to avoid hurting the feelings of their Hindu fellows\" 0\n",
      "A homeless man found rare artwork from Disney's 'Bambi' in a trash bin. When it sold for $3,700, the seller tracked him down to split the proceeds 1\n",
      "World Cup: France's Kylian Mbappe, 19-year-old phenom, will donate World Cup earnings to charity 0\n",
      "Good Samaritan picks up hotel tab for 70 homeless in Chicago amid life-threatening cold 0\n",
      "Radio host (Iain Lee) keeps suicidal caller on the line for half an hour until ambulance arrives 1\n",
      "David Spade donates $100,000 to mental health organization following Kate's death 1\n",
      "Japanese proposal to reinstate commercial whaling defeated 0\n",
      "Kenyan Woman Saves 15,000 Young Girls From Female Genital Mutilation 0\n",
      "Trader Joe’s Phasing Out Single-Use Plastics Nationwide Following Customer Petition 0\n",
      "Chile Just Converted 11 Million Acres Into New National Parks 0\n",
      "Muslims Raise More Than $50K For Pittsburgh Synagogue Victims In 6 Hours 0\n",
      "Cities may not prosecute homeless people for sleeping outside if they have no access to shelter, appeals court rules 1\n",
      "New Zealand wants to make people happy, not rich - New Zealand’s latest budget, unveiled this week, is being touted as the first in a Western country to put well-being over economic pressures. 0\n",
      "Indian fishermen are pulling Plastic from the Oceans to build roads and have removed 25 tonnes of plastic from the Arabian Sea in first 10 months. 0\n",
      "Tennessee becomes first state in the South with hate crime law protecting transgender people 0\n",
      "A Teacher in India buys a bus and becomes a bus driver to make sure no one drops out of school 1\n",
      "Redditors of the Marvel Studios subreddit are trying to start a Campaign to allow a fellow redditor who is terminally ill to see an early Screening of Avengers: Endgame 0\n",
      "New York City bans foam containers, coffee cups and more in landmark legislation 0\n",
      "People Are Picking Up Trash in Parks and Beaches for the 'Trashtag Challenge' 0\n",
      "Another baby white rhino! N.C. Zoo announces second birth in 11 days 1\n",
      "Microsoft will require suppliers to offer paid parental leave - In a move that could prompt more companies to offer paid parental leave, Microsoft is announcing today that it will require all of its U.S.-based suppliers and vendors with more than 50 employees to offer such benefits. 0\n",
      "An Amazonian parrot called Freddy Krueger has made headlines in Brazil after managing to find its way back to the zoo from which it was stolen while recovering from a four-year nightmare that saw it shot in a gun battle, abducted by armed thieves and bitten by a snake. 0\n",
      "Golden retriever who saved Arizona woman from snake bite named dog of year 1\n",
      "Seattle judges throw out 15 years of marijuana convictions 1\n",
      "Whales Seen In Hundreds Off NYC Shores, Drawn By Cleaner Waters 0\n",
      "Mexican scientist cures the Human Papilloma Virus 1\n",
      "During government shutdown, Dallas restaurant offers $1 tacos to federal employees 1\n",
      "\"Elephants have first right over forest\" - Indian Supreme Court. Orders for demolition of wall that was blocking elephant migration corridor 0\n"
     ]
    }
   ],
   "source": [
    "df = pd.DataFrame(columns=['Text'])\n",
    "for submission in reddit.subreddit('upliftingnews').top('year',limit=100):\n",
    "    df = df.append({'Text': submission.title}, ignore_index=True)\n",
    "#log_model = LogisticRegression(solver='lbfgs')\n",
    "#log_model = log_model.fit(X=features_nd[0:len(train_data_df)], y=train_data_df.Sentiment)\n",
    "test_pred = log_model.predict(features_nd[len(df):])\n",
    "for i in range(len(df)):\n",
    "    print(df.Text[i], test_pred[i])"
   ]
  },
  {
   "cell_type": "code",
   "execution_count": 17,
   "metadata": {},
   "outputs": [
    {
     "name": "stdout",
     "output_type": "stream",
     "text": [
      "1 nan\n",
      "0 nan\n",
      "0 nan\n",
      "1 nan\n",
      "1 I love NLP\n",
      "1 nan\n"
     ]
    },
    {
     "name": "stderr",
     "output_type": "stream",
     "text": [
      "C:\\ProgramData\\Anaconda3\\lib\\site-packages\\pandas\\core\\series.py:942: FutureWarning: \n",
      "Passing list-likes to .loc or [] with any missing label will raise\n",
      "KeyError in the future, you can use .reindex() as an alternative.\n",
      "\n",
      "See the documentation here:\n",
      "https://pandas.pydata.org/pandas-docs/stable/indexing.html#deprecate-loc-reindex-listlike\n",
      "  return self.loc[key]\n"
     ]
    }
   ],
   "source": [
    "log_model = LogisticRegression(solver='lbfgs')\n",
    "log_model = log_model.fit(X=features_nd[0:len(train_data_df)], y=train_data_df.Sentiment)\n",
    "test_pred = log_model.predict(features_nd[len(train_data_df):])\n",
    "import random\n",
    "spl = random.sample(range(len(test_pred)), 6)\n",
    "for text, sentiment in zip(test_data_df2.Text[spl], test_pred[spl]):\n",
    "    print (sentiment, text)"
   ]
  },
  {
   "cell_type": "code",
   "execution_count": 18,
   "metadata": {},
   "outputs": [],
   "source": [
    "#for i in range(0, 5):\n",
    "#    print(test_data_df.Text[i], test_pred[i])"
   ]
  },
  {
   "cell_type": "code",
   "execution_count": null,
   "metadata": {},
   "outputs": [],
   "source": []
  },
  {
   "cell_type": "code",
   "execution_count": null,
   "metadata": {},
   "outputs": [],
   "source": []
  }
 ],
 "metadata": {
  "kernelspec": {
   "display_name": "Python 3",
   "language": "python",
   "name": "python3"
  },
  "language_info": {
   "codemirror_mode": {
    "name": "ipython",
    "version": 3
   },
   "file_extension": ".py",
   "mimetype": "text/x-python",
   "name": "python",
   "nbconvert_exporter": "python",
   "pygments_lexer": "ipython3",
   "version": "3.7.3"
  }
 },
 "nbformat": 4,
 "nbformat_minor": 2
}
