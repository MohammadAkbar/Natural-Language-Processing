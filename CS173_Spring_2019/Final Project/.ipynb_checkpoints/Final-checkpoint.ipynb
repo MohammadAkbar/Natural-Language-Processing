{
 "cells": [
  {
   "cell_type": "code",
   "execution_count": 43,
   "metadata": {},
   "outputs": [
    {
     "name": "stderr",
     "output_type": "stream",
     "text": [
      "[nltk_data] Downloading package punkt to\n",
      "[nltk_data]     C:\\Users\\komail\\AppData\\Roaming\\nltk_data...\n",
      "[nltk_data]   Package punkt is already up-to-date!\n",
      "[nltk_data] Downloading package stopwords to\n",
      "[nltk_data]     C:\\Users\\komail\\AppData\\Roaming\\nltk_data...\n",
      "[nltk_data]   Unzipping corpora\\stopwords.zip.\n"
     ]
    },
    {
     "data": {
      "text/plain": [
       "True"
      ]
     },
     "execution_count": 43,
     "metadata": {},
     "output_type": "execute_result"
    }
   ],
   "source": [
    "import nltk\n",
    "nltk.download('punkt')\n",
    "nltk.download('stopwords')"
   ]
  },
  {
   "cell_type": "markdown",
   "metadata": {},
   "source": [
    "import **PRAW**: *The Python Reddit Api Wrapper*"
   ]
  },
  {
   "cell_type": "code",
   "execution_count": 44,
   "metadata": {},
   "outputs": [
    {
     "name": "stdout",
     "output_type": "stream",
     "text": [
      "True\n"
     ]
    }
   ],
   "source": [
    "import praw\n",
    "\n",
    "reddit = praw.Reddit(client_id='8G3apa5U51Rw2g',\n",
    "                     client_secret='ACPdbSJSDLV8U3EAjla2MhOj1zg',\n",
    "                     user_agent='my user agent')\n",
    "\n",
    "print(reddit.read_only) "
   ]
  },
  {
   "cell_type": "code",
   "execution_count": 59,
   "metadata": {},
   "outputs": [],
   "source": [
    "from nltk.corpus import stopwords\n",
    "from nltk.stem.lancaster import LancasterStemmer\n",
    "stem = LancasterStemmer()\n",
    "stop_words = stopwords.words('english')"
   ]
  },
  {
   "cell_type": "code",
   "execution_count": 63,
   "metadata": {},
   "outputs": [
    {
     "name": "stdout",
     "output_type": "stream",
     "text": [
      "Kim Davis, clerk who refused to sign marriage licenses for gay couples, loses to Democrat\n",
      "['Kim', 'Davis', ',', 'clerk', 'who', 'refused', 'to', 'sign', 'marriage', 'licenses', 'for', 'gay', 'couples', ',', 'loses', 'to', 'Democrat']\n",
      "['kim', 'davi', 'clerk', 'refus', 'sign', 'marriag', 'licens', 'gay', 'coupl', 'lose', 'democrat']\n"
     ]
    }
   ],
   "source": [
    "words = []\n",
    "for submission in reddit.subreddit('politics').top('year',limit=1):\n",
    "    print(submission.title)\n",
    "    tokens = nltk.tokenize.word_tokenize(submission.title)\n",
    "    print(tokens)\n",
    "    go_words = [stem(w.lower()) for w in tokens if (w.lower() not in stop_words and w.isalpha())]\n",
    "    print(go_words)\n",
    "    words += go_words\n",
    "    #print(' ')\n",
    "    #print(submission.selftext)\n",
    "    #print('-----------------------------')"
   ]
  },
  {
   "cell_type": "code",
   "execution_count": 61,
   "metadata": {},
   "outputs": [
    {
     "name": "stdout",
     "output_type": "stream",
     "text": [
      "<FreqDist with 11 samples and 11 outcomes>\n"
     ]
    },
    {
     "data": {
      "text/plain": [
       "[('kim', 1), ('davis', 1), ('clerk', 1), ('refused', 1), ('sign', 1)]"
      ]
     },
     "execution_count": 61,
     "metadata": {},
     "output_type": "execute_result"
    }
   ],
   "source": [
    "fdist = nltk.FreqDist(words)\n",
    "print(fdist)\n",
    "fdist.most_common(5)"
   ]
  },
  {
   "cell_type": "code",
   "execution_count": null,
   "metadata": {},
   "outputs": [],
   "source": []
  }
 ],
 "metadata": {
  "kernelspec": {
   "display_name": "Python 3",
   "language": "python",
   "name": "python3"
  },
  "language_info": {
   "codemirror_mode": {
    "name": "ipython",
    "version": 3
   },
   "file_extension": ".py",
   "mimetype": "text/x-python",
   "name": "python",
   "nbconvert_exporter": "python",
   "pygments_lexer": "ipython3",
   "version": "3.7.3"
  }
 },
 "nbformat": 4,
 "nbformat_minor": 2
}
